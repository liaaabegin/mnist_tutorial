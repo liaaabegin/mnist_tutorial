{
 "cells": [
  {
   "cell_type": "markdown",
   "metadata": {},
   "source": [
    "# Keras Tutorial"
   ]
  },
  {
   "cell_type": "markdown",
   "metadata": {},
   "source": [
    "Keras is a popular deep learning framework and it's easy to get started."
   ]
  },
  {
   "cell_type": "code",
   "execution_count": 1,
   "metadata": {
    "collapsed": true
   },
   "outputs": [],
   "source": [
    "import tensorflow.keras as keras\n",
    "from tensorflow.keras.datasets import mnist\n",
    "from tensorflow.keras.models import Sequential\n",
    "from tensorflow.keras.layers import Activation, Dense, Dropout, Flatten, Conv2D, MaxPooling2D\n",
    "from tensorflow.keras.optimizers import SGD\n",
    "from sklearn.metrics import accuracy_score\n",
    "BATCH_SIZE = 128\n",
    "NUM_CLASSES = 10\n",
    "NUM_EPOCHS = 10"
   ]
  },
  {
   "cell_type": "markdown",
   "metadata": {},
   "source": [
    "First, we read the mnist data and preprocess them."
   ]
  },
  {
   "cell_type": "code",
   "execution_count": 2,
   "metadata": {
    "collapsed": true
   },
   "outputs": [],
   "source": [
    "# download and load the data (split them between train and test sets)\n",
    "(x_train, y_train), (x_test, y_test) = mnist.load_data()\n",
    "\n",
    "# expand the channel dimension\n",
    "x_train = x_train.reshape(x_train.shape[0], 28, 28, 1)\n",
    "x_test = x_test.reshape(x_test.shape[0], 28, 28, 1)\n",
    "input_shape = (28, 28, 1)\n",
    "\n",
    "# make the value of pixels from [0, 255] to [0, 1] for further process\n",
    "x_train = x_train.astype('float32') / 255.\n",
    "x_test = x_test.astype('float32') / 255.\n",
    "\n",
    "# convert class vectors to binary class matrics\n",
    "y_train = keras.utils.to_categorical(y_train, NUM_CLASSES)\n",
    "y_test = keras.utils.to_categorical(y_test, NUM_CLASSES)"
   ]
  },
  {
   "cell_type": "markdown",
   "metadata": {},
   "source": [
    "Then, we define the model, object function and optimizer that we use to classify."
   ]
  },
  {
   "cell_type": "code",
   "execution_count": 9,
   "metadata": {
    "collapsed": true
   },
   "outputs": [],
   "source": [
    "# define the model\n",
    "model = Sequential()\n",
    "model.add(Conv2D(6, (5, 5), padding=\"same\",input_shape=input_shape))\n",
    "model.add(Activation(\"relu\"))\n",
    "model.add(MaxPooling2D(pool_size=(2, 2)))\n",
    "        \n",
    "# CONV => RELU => POOL layer set\n",
    "model.add(Conv2D(16, (5, 5), padding=\"same\"))\n",
    "model.add(Activation(\"relu\"))\n",
    "model.add(MaxPooling2D(pool_size=(2, 2)))\n",
    "\n",
    "model.add(Conv2D(120, (5, 5), padding=\"same\"))\n",
    "model.add(Activation(\"relu\"))\n",
    "\n",
    "model.add(Flatten())\n",
    "model.add(Dense(84))\n",
    "model.add(Activation(\"relu\"))\n",
    "\n",
    "# output layer \n",
    "model.add(Dense(NUM_CLASSES))\n",
    "model.add(Activation(\"softmax\"))\n",
    "\n",
    "# define the object function, optimizer and metrics\n",
    "opt = SGD(lr=0.001, decay=0.001/NUM_EPOCHS)\n",
    "model.compile(loss='categorical_crossentropy', optimizer=opt, metrics=['accuracy'])"
   ]
  },
  {
   "cell_type": "markdown",
   "metadata": {},
   "source": [
    "Next, we can start to train and evaluate!"
   ]
  },
  {
   "cell_type": "code",
   "execution_count": 10,
   "metadata": {
    "collapsed": true
   },
   "outputs": [
    {
     "output_type": "stream",
     "name": "stdout",
     "text": [
      "Train on 60000 samples\n",
      "Epoch 1/10\n",
      "60000/60000 [==============================] - 67s 1ms/sample - loss: 2.2628 - accuracy: 0.2395\n",
      "Epoch 2/10\n",
      "60000/60000 [==============================] - 62s 1ms/sample - loss: 2.1153 - accuracy: 0.5152\n",
      "Epoch 3/10\n",
      "60000/60000 [==============================] - 63s 1ms/sample - loss: 1.5220 - accuracy: 0.7169\n",
      "Epoch 4/10\n",
      "60000/60000 [==============================] - 63s 1ms/sample - loss: 0.7663 - accuracy: 0.8105\n",
      "Epoch 5/10\n",
      "60000/60000 [==============================] - 62s 1ms/sample - loss: 0.5458 - accuracy: 0.8500\n",
      "Epoch 6/10\n",
      "60000/60000 [==============================] - 59s 977us/sample - loss: 0.4619 - accuracy: 0.8684\n",
      "Epoch 7/10\n",
      "60000/60000 [==============================] - 59s 984us/sample - loss: 0.4121 - accuracy: 0.8816\n",
      "Epoch 8/10\n",
      "60000/60000 [==============================] - 59s 986us/sample - loss: 0.3784 - accuracy: 0.8908\n",
      "Epoch 9/10\n",
      "60000/60000 [==============================] - 63s 1ms/sample - loss: 0.3532 - accuracy: 0.8978\n",
      "Epoch 10/10\n",
      "60000/60000 [==============================] - 63s 1ms/sample - loss: 0.3326 - accuracy: 0.9032\n",
      "Training loss:\n",
      "[2.2628386389414468, 2.115282559458415, 1.5220310613632202, 0.7662802967707316, 0.5457689843336742, 0.46186856389045716, 0.41210979765256245, 0.37841645323435463, 0.3532147268931071, 0.3326417495250702]\n",
      "Training accuracy:\n",
      "[0.23951666, 0.51515, 0.71695, 0.81053334, 0.85001665, 0.86835, 0.88156664, 0.8908, 0.89776665, 0.90315]\n",
      "Testing loss: 0.3111, Testing accuracy: 91.13%\n"
     ]
    }
   ],
   "source": [
    "# train\n",
    "H = model.fit(x_train, y_train, batch_size=BATCH_SIZE, epochs=NUM_EPOCHS)\n",
    "\n",
    "pred = model.predict(x=x_test, batch_size=BATCH_SIZE)\n",
    "\n",
    "# evaluate\n",
    "train_loss = H.history['loss']\n",
    "train_accuracy = H.history['accuracy']\n",
    "print('Training loss:')\n",
    "print(train_loss)\n",
    "print('Training accuracy:')\n",
    "print(train_accuracy)\n",
    "score_test = model.evaluate(x_test, y_test, verbose=0)\n",
    "print('Testing loss: %.4f, Testing accuracy: %.2f%%' % (score_test[0], score_test[1]*100))"
   ]
  },
  {
   "cell_type": "markdown",
   "metadata": {},
   "source": [
    "#### Q6:\n",
    "Please print the training and testing accuracy."
   ]
  }
 ],
 "metadata": {
  "kernelspec": {
   "name": "python370jvsc74a57bd0bde024acb0c3347a08e0dba4878e69679d0c20fe0788b4aef5a424457d1b886f",
   "display_name": "Python 3.7.0 64-bit"
  },
  "language_info": {
   "codemirror_mode": {
    "name": "ipython",
    "version": 3
   },
   "file_extension": ".py",
   "mimetype": "text/x-python",
   "name": "python",
   "nbconvert_exporter": "python",
   "pygments_lexer": "ipython3",
   "version": "3.7.0"
  }
 },
 "nbformat": 4,
 "nbformat_minor": 2
}