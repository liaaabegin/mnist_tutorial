{
 "cells": [
  {
   "cell_type": "markdown",
   "metadata": {},
   "source": [
    "# Keras Tutorial"
   ]
  },
  {
   "cell_type": "markdown",
   "metadata": {},
   "source": [
    "Keras is a popular deep learning framework and it's easy to get started."
   ]
  },
  {
   "cell_type": "code",
   "execution_count": 1,
   "metadata": {
    "collapsed": true
   },
   "outputs": [],
   "source": [
    "import tensorflow.keras as keras\n",
    "from tensorflow.keras.datasets import mnist\n",
    "from tensorflow.keras.models import Sequential\n",
    "from tensorflow.keras.layers import Activation, Dense, Dropout, Flatten, Conv2D, MaxPooling2D\n",
    "from tensorflow.keras.optimizers import SGD\n",
    "from sklearn.metrics import accuracy_score\n",
    "BATCH_SIZE = 128\n",
    "NUM_CLASSES = 10\n",
    "NUM_EPOCHS = 10"
   ]
  },
  {
   "cell_type": "markdown",
   "metadata": {},
   "source": [
    "First, we read the mnist data and preprocess them."
   ]
  },
  {
   "cell_type": "code",
   "execution_count": 2,
   "metadata": {
    "collapsed": true
   },
   "outputs": [],
   "source": [
    "# download and load the data (split them between train and test sets)\n",
    "(x_train, y_train), (x_test, y_test) = mnist.load_data()\n",
    "\n",
    "# expand the channel dimension\n",
    "x_train = x_train.reshape(x_train.shape[0], 28, 28, 1)\n",
    "x_test = x_test.reshape(x_test.shape[0], 28, 28, 1)\n",
    "input_shape = (28, 28, 1)\n",
    "\n",
    "# make the value of pixels from [0, 255] to [0, 1] for further process\n",
    "x_train = x_train.astype('float32') / 255.\n",
    "x_test = x_test.astype('float32') / 255.\n",
    "\n",
    "# convert class vectors to binary class matrics\n",
    "y_train = keras.utils.to_categorical(y_train, NUM_CLASSES)\n",
    "y_test = keras.utils.to_categorical(y_test, NUM_CLASSES)"
   ]
  },
  {
   "cell_type": "markdown",
   "metadata": {},
   "source": [
    "Then, we define the model, object function and optimizer that we use to classify."
   ]
  },
  {
   "cell_type": "code",
   "execution_count": 3,
   "metadata": {
    "collapsed": true
   },
   "outputs": [],
   "source": [
    "# define the model LeNet\n",
    "model = Sequential()\n",
    "model.add(Conv2D(6, (5, 5), padding=\"same\",input_shape=input_shape))\n",
    "model.add(Activation(\"relu\"))\n",
    "model.add(MaxPooling2D(pool_size=(2, 2)))\n",
    "        \n",
    "# CONV => RELU => POOL layer set\n",
    "model.add(Conv2D(16, (5, 5), padding=\"same\"))\n",
    "model.add(Activation(\"relu\"))\n",
    "model.add(MaxPooling2D(pool_size=(2, 2)))\n",
    "\n",
    "model.add(Conv2D(120, (5, 5), padding=\"same\"))\n",
    "model.add(Activation(\"relu\"))\n",
    "\n",
    "model.add(Flatten())\n",
    "model.add(Dense(84))\n",
    "model.add(Activation(\"relu\"))\n",
    "\n",
    "# output layer \n",
    "model.add(Dense(NUM_CLASSES))\n",
    "model.add(Activation(\"softmax\"))\n",
    "\n",
    "# define the object function, optimizer and metrics\n",
    "opt = SGD(lr=0.001, decay=0.001/NUM_EPOCHS)\n",
    "model.compile(loss='categorical_crossentropy', optimizer=opt, metrics=['accuracy'])"
   ]
  },
  {
   "cell_type": "markdown",
   "metadata": {},
   "source": [
    "Next, we can start to train and evaluate!"
   ]
  },
  {
   "cell_type": "code",
   "execution_count": 4,
   "metadata": {
    "collapsed": true
   },
   "outputs": [
    {
     "output_type": "stream",
     "name": "stdout",
     "text": [
      "Train on 60000 samples\n",
      "Epoch 1/10\n",
      "60000/60000 [==============================] - 44s 726us/sample - loss: 2.2894 - accuracy: 0.1675\n",
      "Epoch 2/10\n",
      "60000/60000 [==============================] - 42s 696us/sample - loss: 2.2540 - accuracy: 0.2711\n",
      "Epoch 3/10\n",
      "60000/60000 [==============================] - 44s 726us/sample - loss: 2.1680 - accuracy: 0.3956\n",
      "Epoch 4/10\n",
      "60000/60000 [==============================] - 42s 702us/sample - loss: 1.8747 - accuracy: 0.5401\n",
      "Epoch 5/10\n",
      "60000/60000 [==============================] - 42s 702us/sample - loss: 1.1524 - accuracy: 0.7396\n",
      "Epoch 6/10\n",
      "60000/60000 [==============================] - 42s 708us/sample - loss: 0.6690 - accuracy: 0.8264\n",
      "Epoch 7/10\n",
      "60000/60000 [==============================] - 43s 714us/sample - loss: 0.5119 - accuracy: 0.8568\n",
      "Epoch 8/10\n",
      "60000/60000 [==============================] - 43s 712us/sample - loss: 0.4424 - accuracy: 0.8733\n",
      "Epoch 9/10\n",
      "60000/60000 [==============================] - 43s 723us/sample - loss: 0.4004 - accuracy: 0.8835\n",
      "Epoch 10/10\n",
      "60000/60000 [==============================] - 43s 714us/sample - loss: 0.3705 - accuracy: 0.8912\n",
      "Training loss:\n",
      "[2.2893650169372557, 2.2539602821350098, 2.1679879965464273, 1.874652576382955, 1.1524032139142355, 0.6690412253379822, 0.5119300357341766, 0.4424156178156535, 0.4004175520737966, 0.3704594168027242]\n",
      "Training accuracy:\n",
      "[0.1675, 0.27115, 0.39555, 0.54011667, 0.7395833, 0.82643336, 0.85675, 0.87325, 0.8835, 0.8912167]\n",
      "Testing loss: 0.3385, Testing accuracy: 90.19%\n"
     ]
    }
   ],
   "source": [
    "# train\n",
    "H = model.fit(x_train, y_train, batch_size=BATCH_SIZE, epochs=NUM_EPOCHS)\n",
    "\n",
    "# evaluate\n",
    "train_loss = H.history['loss']\n",
    "train_accuracy = H.history['accuracy']\n",
    "print('Training loss:')\n",
    "print(train_loss)\n",
    "print('Training accuracy:')\n",
    "print(train_accuracy)\n",
    "\n",
    "score_test = model.evaluate(x_test, y_test, verbose=0)\n",
    "print('Testing loss: %.4f, Testing accuracy: %.2f%%' % (score_test[0], score_test[1]*100))"
   ]
  },
  {
   "cell_type": "markdown",
   "metadata": {},
   "source": [
    "#### Q6:\n",
    "Please print the training and testing accuracy."
   ]
  }
 ],
 "metadata": {
  "kernelspec": {
   "name": "python370jvsc74a57bd0bde024acb0c3347a08e0dba4878e69679d0c20fe0788b4aef5a424457d1b886f",
   "display_name": "Python 3.7.0 64-bit"
  },
  "language_info": {
   "codemirror_mode": {
    "name": "ipython",
    "version": 3
   },
   "file_extension": ".py",
   "mimetype": "text/x-python",
   "name": "python",
   "nbconvert_exporter": "python",
   "pygments_lexer": "ipython3",
   "version": "3.7.0"
  }
 },
 "nbformat": 4,
 "nbformat_minor": 2
}