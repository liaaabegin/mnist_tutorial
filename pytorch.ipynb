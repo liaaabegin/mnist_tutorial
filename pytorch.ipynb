{
 "cells": [
  {
   "cell_type": "markdown",
   "metadata": {},
   "source": [
    "# Pytorch Tutorial"
   ]
  },
  {
   "cell_type": "markdown",
   "metadata": {},
   "source": [
    "Pytorch is a popular deep learning framework and it's easy to get started."
   ]
  },
  {
   "cell_type": "code",
   "execution_count": 16,
   "metadata": {
    "collapsed": true
   },
   "outputs": [],
   "source": [
    "import torch\n",
    "import torch.nn as nn\n",
    "import torch.utils.data as data\n",
    "import torchvision\n",
    "import torchvision.transforms as transforms\n",
    "from tqdm import tqdm\n",
    "import time\n",
    "from sklearn.metrics import accuracy_score\n",
    "\n",
    "BATCH_SIZE = 128\n",
    "NUM_EPOCHS = 10"
   ]
  },
  {
   "cell_type": "markdown",
   "metadata": {},
   "source": [
    "First, we read the mnist data, preprocess them and encapsulate them into dataloader form."
   ]
  },
  {
   "cell_type": "code",
   "execution_count": 5,
   "metadata": {
    "collapsed": true
   },
   "outputs": [
    {
     "output_type": "stream",
     "name": "stdout",
     "text": [
      "Using downloaded and verified file: ./mnist/MNIST\\raw\\train-images-idx3-ubyte.gz\n",
      "Extracting ./mnist/MNIST\\raw\\train-images-idx3-ubyte.gz to ./mnist/MNIST\\raw\n",
      "0it [00:00, ?it/s]Using downloaded and verified file: ./mnist/MNIST\\raw\\train-labels-idx1-ubyte.gz\n",
      "Extracting ./mnist/MNIST\\raw\\train-labels-idx1-ubyte.gz to ./mnist/MNIST\\raw\n",
      "Using downloaded and verified file: ./mnist/MNIST\\raw\\t10k-images-idx3-ubyte.gz\n",
      "Extracting ./mnist/MNIST\\raw\\t10k-images-idx3-ubyte.gz to ./mnist/MNIST\\raw\n",
      "Downloading http://yann.lecun.com/exdb/mnist/t10k-labels-idx1-ubyte.gz to ./mnist/MNIST\\raw\\t10k-labels-idx1-ubyte.gz\n",
      "  0%|          | 0/4542 [00:00<?, ?it/s]C:\\Users\\12495\\AppData\\Local\\Programs\\Python\\Python37\\lib\\site-packages\\torchvision\\datasets\\mnist.py:469: UserWarning: The given NumPy array is not writeable, and PyTorch does not support non-writeable tensors. This means you can write to the underlying (supposedly non-writeable) NumPy array using the tensor. You may want to copy the array to protect its data or make it writeable before converting it to a tensor. This type of warning will be suppressed for the rest of this program. (Triggered internally at  ..\\torch\\csrc\\utils\\tensor_numpy.cpp:141.)\n",
      "  return torch.from_numpy(parsed.astype(m[2], copy=False)).view(*s)\n",
      "Extracting ./mnist/MNIST\\raw\\t10k-labels-idx1-ubyte.gz to ./mnist/MNIST\\raw\n",
      "Processing...\n",
      "Done!\n"
     ]
    }
   ],
   "source": [
    "# preprocessing\n",
    "normalize = transforms.Normalize(mean=[.5], std=[.5])\n",
    "transform = transforms.Compose([transforms.ToTensor(), normalize])\n",
    "\n",
    "# download and load the data\n",
    "train_dataset = torchvision.datasets.MNIST(root='./mnist/', train=True, transform=transform, download=True)\n",
    "test_dataset = torchvision.datasets.MNIST(root='./mnist/', train=False, transform=transform, download=False)\n",
    "\n",
    "# encapsulate them into dataloader form\n",
    "train_loader = data.DataLoader(train_dataset, batch_size=BATCH_SIZE, shuffle=True, drop_last=True)\n",
    "test_loader = data.DataLoader(test_dataset, batch_size=BATCH_SIZE, shuffle=False, drop_last=True)"
   ]
  },
  {
   "cell_type": "markdown",
   "metadata": {},
   "source": [
    "Then, we define the model, object function and optimizer that we use to classify."
   ]
  },
  {
   "cell_type": "code",
   "execution_count": 42,
   "metadata": {
    "collapsed": true
   },
   "outputs": [],
   "source": [
    "class SimpleNet(nn.Module):\n",
    "# TODO:define model\n",
    "    def __init__(self):\n",
    "        super(SimpleNet, self).__init__()\n",
    "        self.conv1 = nn.Sequential(\n",
    "            nn.Conv2d(1,6,5,1,2),\n",
    "            nn.ReLU(),\n",
    "            nn.MaxPool2d(kernel_size=2, stride=2))\n",
    "        self.conv2 = nn.Sequential(\n",
    "            nn.Conv2d(6, 16, 5),\n",
    "            nn.ReLU(),  \n",
    "            nn.MaxPool2d(2, 2) )\n",
    "        self.fc1 = nn.Sequential(\n",
    "            nn.Linear(16 * 5 * 5, 120),\n",
    "            nn.ReLU())\n",
    "        self.fc2 = nn.Sequential(\n",
    "            nn.Linear(120, 84),\n",
    "            nn.ReLU())\n",
    "        self.fc3 = nn.Linear(84, 10)\n",
    " \n",
    "    \n",
    "    def forward(self, x):\n",
    "        x = self.conv1(x)\n",
    "        x = self.conv2(x)\n",
    "        x = x.view(x.size()[0], -1)\n",
    "        x = self.fc1(x)\n",
    "        x = self.fc2(x)\n",
    "        x = self.fc3(x)\n",
    "        return x \n",
    "    \n",
    "model = SimpleNet()\n",
    "# TODO:define loss function and optimiter\n",
    "criterion = nn.CrossEntropyLoss()\n",
    "lr = 0.001\n",
    "momentum = 0.9\n",
    "optimizer = torch.optim.SGD(model.parameters(), lr=lr, momentum=momentum)"
   ]
  },
  {
   "cell_type": "markdown",
   "metadata": {},
   "source": [
    "Next, we can start to train and evaluate!"
   ]
  },
  {
   "cell_type": "code",
   "execution_count": 41,
   "metadata": {
    "collapsed": true,
    "scrolled": true
   },
   "outputs": [
    {
     "output_type": "stream",
     "name": "stderr",
     "text": [
      "100%|██████████| 468/468 [00:46<00:00, 10.14it/s]\n",
      "100%|██████████| 468/468 [00:49<00:00,  9.43it/s]\n",
      "100%|██████████| 468/468 [00:50<00:00,  9.35it/s]\n",
      "100%|██████████| 468/468 [00:43<00:00, 10.79it/s]\n",
      "100%|██████████| 468/468 [00:43<00:00, 10.67it/s]\n",
      "100%|██████████| 468/468 [00:43<00:00, 10.77it/s]\n",
      "100%|██████████| 468/468 [00:43<00:00, 10.65it/s]\n",
      "100%|██████████| 468/468 [00:43<00:00, 10.86it/s]\n",
      "100%|██████████| 468/468 [00:42<00:00, 10.91it/s]\n",
      "100%|██████████| 468/468 [00:43<00:00, 10.87it/s]\n",
      "100%|██████████| 78/78 [00:05<00:00, 15.03it/s]\n",
      "Training accuracy:\n",
      "[0.975143563034188, 0.9769965277777778, 0.9775974893162394, 0.9794170673076923, 0.9800681089743589, 0.980735844017094, 0.981620592948718, 0.9824552617521367, 0.9829894497863247, 0.9835904113247863]\n",
      "Testing accuracy: 98.54%\n",
      "\n"
     ]
    }
   ],
   "source": [
    "# train and evaluate\n",
    "train_acc = []\n",
    "for epoch in range(NUM_EPOCHS):\n",
    "    model.train()\n",
    "    acc = 0\n",
    "    for images, labels in tqdm(train_loader):\n",
    "        # TODO:forward + backward + optimize\n",
    "        optimizer.zero_grad()\n",
    "        output = model(images)\n",
    "        loss = criterion(output, labels)\n",
    "        loss.backward()\n",
    "        optimizer.step()\n",
    "\n",
    "        output = nn.functional.softmax(output, dim=1)\n",
    "        acc += accuracy_score(labels, output.argmax(axis=1))\n",
    "    train_acc.append(acc/len(train_loader))\n",
    " \n",
    " # test\n",
    "model.eval()\n",
    "acc = 0\n",
    "for images, labels in tqdm(test_loader):\n",
    "    output = model(images)\n",
    "    output = nn.functional.softmax(output, dim=1)\n",
    "    \n",
    "    acc += accuracy_score(output.argmax(axis=1), labels)\n",
    "\n",
    "\n",
    "print(\"\\nTraining accuracy:\")\n",
    "print(train_acc)\n",
    "print(\"Testing accuracy: %.2f%%\" % (acc/len(test_loader)*100))\n",
    "\n",
    "\n",
    "# evaluate\n",
    "# TODO:calculate the accuracy using traning and testing dataset"
   ]
  },
  {
   "cell_type": "markdown",
   "metadata": {},
   "source": [
    "#### Q5:\n",
    "Please print the training and testing accuracy."
   ]
  }
 ],
 "metadata": {
  "kernelspec": {
   "name": "python370jvsc74a57bd0bde024acb0c3347a08e0dba4878e69679d0c20fe0788b4aef5a424457d1b886f",
   "display_name": "Python 3.7.0 64-bit"
  },
  "language_info": {
   "codemirror_mode": {
    "name": "ipython",
    "version": 3
   },
   "file_extension": ".py",
   "mimetype": "text/x-python",
   "name": "python",
   "nbconvert_exporter": "python",
   "pygments_lexer": "ipython3",
   "version": "3.7.0"
  }
 },
 "nbformat": 4,
 "nbformat_minor": 2
}